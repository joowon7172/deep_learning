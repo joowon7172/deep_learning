{
 "cells": [
  {
   "cell_type": "code",
   "execution_count": null,
   "id": "4cb6f66c",
   "metadata": {},
   "outputs": [],
   "source": [
    "import numpy as np\n",
    "from matplotlib import pyplot as plt\n",
    "import torch\n",
    "import os\n",
    "\n",
    "from torch import nn\n",
    "from torch.utils.data import random_split, DataLoader\n",
    "from torchvision import datasets\n",
    "\n",
    "data_path = os.path.join(os.path.pardir, os.path.pardir, \"_00_data\", \"i_cifar10\")\n",
    "cifar10_train_images = datasets.CIFAR10(data_path, train=True, download=True)\n",
    "cifar10_test_images = datasets.CIFAR10(data_path, train=False, download=True)\n",
    "\n",
    "print(len(cifar10_train_images), len(cifar10_test_images))  # >>> 50000 10000\n",
    "\n",
    "class_names = [\n",
    "  'airplane', 'automobile', 'bird', 'cat', 'deer', 'dog', 'frog', 'horse', 'ship', 'truck'\n",
    "]\n",
    "\n",
    "fig = plt.figure(figsize=(8, 3))\n",
    "num_classes = 10\n",
    "for i in range(num_classes):\n",
    "    ax = fig.add_subplot(2, 5, 1 + i, xticks=[], yticks=[])\n",
    "    ax.set_title(class_names[i])\n",
    "    img = next((img for img, label in cifar10_train_images if label == i))\n",
    "    plt.imshow(img)\n",
    "plt.show()\n",
    "\n",
    "print(\"#\" * 50, 1)"
   ]
  },
  {
   "cell_type": "code",
   "execution_count": null,
   "id": "0f077a08",
   "metadata": {},
   "outputs": [],
   "source": [
    "img, label = cifar10_train_images[0]\n",
    "print(type(img))                  # >>> <class 'PIL.Image.Image'>\n",
    "print(label, class_names[label])  # >>> 1 automobile\n",
    "plt.imshow(img)\n",
    "plt.show()\n",
    "\n",
    "img = np.array(img)\n",
    "print(type(img))                  # >>> <class 'numpy.ndarray'>\n",
    "print(img.shape)\n",
    "\n",
    "print(\"#\" * 50, 2)"
   ]
  },
  {
   "cell_type": "code",
   "execution_count": null,
   "id": "bd46cc44",
   "metadata": {},
   "outputs": [],
   "source": [
    "from torchvision import transforms\n",
    "cifar10_train = datasets.CIFAR10(data_path, train=True, download=False, transform=transforms.ToTensor())\n",
    "cifar10_train, cifar10_validation = random_split(cifar10_train, [45_000, 5_000])\n",
    "cifar10_test = datasets.CIFAR10(data_path, train=False, download=False, transform=transforms.ToTensor())\n",
    "\n",
    "print(len(cifar10_train), len(cifar10_validation), len(cifar10_test))  # >>> 45000 5000 10000\n",
    "\n",
    "img_t, _ = cifar10_train[0]\n",
    "print(type(img_t))\n",
    "print(img_t.shape)\n",
    "print(img_t.min(), img_t.max())\n",
    "\n",
    "print(\"#\" * 50, 3)"
   ]
  },
  {
   "cell_type": "code",
   "execution_count": null,
   "id": "dfe86197",
   "metadata": {},
   "outputs": [],
   "source": [
    "imgs = torch.stack([img_t for img_t, _ in cifar10_train], dim=3)\n",
    "print(imgs.shape)\n",
    "\n",
    "print(imgs.view(3, -1).mean(dim=-1))\n",
    "# >>> tensor([0.4914, 0.4822, 0.4465])\n",
    "\n",
    "print(imgs.view(3, -1).std(dim=-1))\n",
    "# >>> tensor([0.2470, 0.2435, 0.2616])\n",
    "\n",
    "print(\"#\" * 50, 4)"
   ]
  },
  {
   "cell_type": "code",
   "execution_count": null,
   "id": "31ccbc3b",
   "metadata": {},
   "outputs": [],
   "source": [
    "# input.shape: torch.Size([-1, 3, 32, 32]) --> torch.Size([-1, 3072])\n",
    "cifar10_transforms = nn.Sequential(\n",
    "  transforms.ConvertImageDtype(torch.float),\n",
    "  transforms.Normalize(mean=(0.4915, 0.4823, 0.4468), std=(0.2470, 0.2435, 0.2616)),\n",
    "  nn.Flatten()\n",
    ")\n",
    "\n",
    "train_data_loader = DataLoader(dataset=cifar10_train, batch_size=32, shuffle=True)\n",
    "\n",
    "for idx, train_batch in enumerate(train_data_loader):\n",
    "    input, target = train_batch\n",
    "    transformed_input = cifar10_transforms(input)\n",
    "    if idx == 0:\n",
    "        print(input.shape, transformed_input.shape)"
   ]
  }
 ],
 "metadata": {
  "kernelspec": {
   "display_name": "Python 3 (ipykernel)",
   "language": "python",
   "name": "python3"
  },
  "language_info": {
   "codemirror_mode": {
    "name": "ipython",
    "version": 3
   },
   "file_extension": ".py",
   "mimetype": "text/x-python",
   "name": "python",
   "nbconvert_exporter": "python",
   "pygments_lexer": "ipython3",
   "version": "3.11.4"
  }
 },
 "nbformat": 4,
 "nbformat_minor": 5
}
