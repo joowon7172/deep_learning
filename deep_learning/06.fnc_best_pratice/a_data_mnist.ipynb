{
 "cells": [
  {
   "cell_type": "code",
   "execution_count": null,
   "id": "b066b71e",
   "metadata": {},
   "outputs": [],
   "source": [
    "import numpy as np\n",
    "from matplotlib import pyplot as plt\n",
    "import torch\n",
    "import os\n",
    "\n",
    "from torch import nn\n",
    "from torch.utils.data import random_split, DataLoader\n",
    "from torchvision import datasets\n",
    "\n",
    "data_path = os.path.join(os.path.pardir, os.path.pardir, \"_00_data\", \"h_mnist\")\n",
    "mnist_train_images = datasets.MNIST(data_path, train=True, download=True)\n",
    "mnist_test_images = datasets.MNIST(data_path, train=False, download=True)\n",
    "\n",
    "print(len(mnist_train_images), len(mnist_test_images))  # >>> 60000 10000\n",
    "\n",
    "fig = plt.figure(figsize=(8, 3))\n",
    "num_classes = 10\n",
    "for i in range(num_classes):\n",
    "    ax = fig.add_subplot(2, 5, 1 + i, xticks=[], yticks=[])\n",
    "    ax.set_title(i)\n",
    "    img = next((img for img, label in mnist_train_images if label == i))\n",
    "    plt.imshow(img)\n",
    "plt.show()\n",
    "\n",
    "print(\"#\" * 50, 1)"
   ]
  },
  {
   "cell_type": "code",
   "execution_count": null,
   "id": "ed2f9085",
   "metadata": {},
   "outputs": [],
   "source": [
    "img, label = mnist_train_images[0]\n",
    "print(type(img))                  # >>> <class 'PIL.Image.Image'>\n",
    "print(label)  # >>> 5\n",
    "plt.imshow(img)\n",
    "plt.show()\n",
    "\n",
    "img = np.array(img)\n",
    "print(type(img))\n",
    "print(img.shape)\n",
    "\n",
    "print(\"#\" * 50, 2)\n",
    "\n",
    "from torchvision import transforms\n",
    "mnist_train = datasets.MNIST(data_path, train=True, download=False, transform=transforms.ToTensor())\n",
    "mnist_train, mnist_validation = random_split(mnist_train, [55_000, 5_000])\n",
    "mnist_test = datasets.MNIST(data_path, train=False, download=False, transform=transforms.ToTensor())\n",
    "\n",
    "print(len(mnist_train), len(mnist_validation), len(mnist_test))  # >>> 55000 5000 10000\n",
    "\n",
    "img_t, _ = mnist_train[0]\n",
    "print(type(img_t))\n",
    "print(img_t.shape)\n",
    "print(img_t.min(), img_t.max())\n",
    "\n",
    "print(\"#\" * 50, 3)"
   ]
  },
  {
   "cell_type": "code",
   "execution_count": null,
   "id": "6afba03b",
   "metadata": {},
   "outputs": [],
   "source": [
    "imgs = torch.stack([img_t for img_t, _ in mnist_train], dim=3)\n",
    "print(imgs.shape)\n",
    "# >>> torch.Size([1, 28, 28, 60000])\n",
    "\n",
    "print(imgs.view(1, -1).mean(dim=-1))\n",
    "# >>> tensor([0.1307])\n",
    "\n",
    "print(imgs.view(1, -1).std(dim=-1))\n",
    "# >>> tensor([0.3081])\n",
    "\n",
    "print(\"#\" * 50, 4)\n",
    "\n",
    "# >>> 60_000"
   ]
  },
  {
   "cell_type": "code",
   "execution_count": null,
   "id": "dc8ddb19",
   "metadata": {},
   "outputs": [],
   "source": [
    "# input.shape: torch.Size([-1, 1, 28, 28]) --> torch.Size([-1, 784])\n",
    "mnist_transforms = nn.Sequential(\n",
    "  transforms.ConvertImageDtype(torch.float),\n",
    "  transforms.Normalize(mean=0.1307, std=0.3081),\n",
    "  nn.Flatten(),\n",
    ")\n",
    "\n",
    "train_data_loader = DataLoader(dataset=mnist_train, batch_size=32, shuffle=True)\n",
    "\n",
    "for idx, train_batch in enumerate(train_data_loader):\n",
    "    input, target = train_batch\n",
    "    transformed_input = mnist_transforms(input)\n",
    "    if idx == 0:\n",
    "        print(input.shape, transformed_input.shape)"
   ]
  }
 ],
 "metadata": {
  "kernelspec": {
   "display_name": "Python 3 (ipykernel)",
   "language": "python",
   "name": "python3"
  },
  "language_info": {
   "codemirror_mode": {
    "name": "ipython",
    "version": 3
   },
   "file_extension": ".py",
   "mimetype": "text/x-python",
   "name": "python",
   "nbconvert_exporter": "python",
   "pygments_lexer": "ipython3",
   "version": "3.11.4"
  }
 },
 "nbformat": 4,
 "nbformat_minor": 5
}
